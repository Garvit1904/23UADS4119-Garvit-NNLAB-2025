{
 "cells": [
  {
   "cell_type": "code",
   "execution_count": 1,
   "metadata": {},
   "outputs": [
    {
     "name": "stdout",
     "output_type": "stream",
     "text": [
      "Predictions: [0 1 1 0]\n"
     ]
    }
   ],
   "source": [
    "import numpy as np\n",
    "\n",
    "def sigmoid(x):\n",
    "    return 1 / (1 + np.exp(-x))\n",
    "\n",
    "def sigmoid_derivative(x):\n",
    "    return x * (1 - x)\n",
    "\n",
    "class MLP:\n",
    "    def __init__(self, input_size, hidden_size, output_size, learning_rate=0.1, epochs=10000):\n",
    "        self.learning_rate = learning_rate\n",
    "        self.epochs = epochs\n",
    "        \n",
    "        # Initialize weights and biases\n",
    "        self.weights_input_hidden = np.random.randn(input_size, hidden_size)\n",
    "        self.bias_hidden = np.zeros((1, hidden_size))\n",
    "        self.weights_hidden_output = np.random.randn(hidden_size, output_size)\n",
    "        self.bias_output = np.zeros((1, output_size))\n",
    "    \n",
    "    def train(self, X, y):\n",
    "        for epoch in range(self.epochs):\n",
    "            # Forward pass\n",
    "            hidden_input = np.dot(X, self.weights_input_hidden) + self.bias_hidden\n",
    "            hidden_output = sigmoid(hidden_input)\n",
    "            final_input = np.dot(hidden_output, self.weights_hidden_output) + self.bias_output\n",
    "            final_output = sigmoid(final_input)\n",
    "            \n",
    "            # Compute error\n",
    "            error = y - final_output\n",
    "            \n",
    "            # Backpropagation\n",
    "            d_output = error * sigmoid_derivative(final_output)\n",
    "            d_hidden = d_output.dot(self.weights_hidden_output.T) * sigmoid_derivative(hidden_output)\n",
    "            \n",
    "            # Update weights and biases\n",
    "            self.weights_hidden_output += hidden_output.T.dot(d_output) * self.learning_rate\n",
    "            self.bias_output += np.sum(d_output, axis=0, keepdims=True) * self.learning_rate\n",
    "            self.weights_input_hidden += X.T.dot(d_hidden) * self.learning_rate\n",
    "            self.bias_hidden += np.sum(d_hidden, axis=0, keepdims=True) * self.learning_rate\n",
    "    \n",
    "    def predict(self, X):\n",
    "        hidden_input = np.dot(X, self.weights_input_hidden) + self.bias_hidden\n",
    "        hidden_output = sigmoid(hidden_input)\n",
    "        final_input = np.dot(hidden_output, self.weights_hidden_output) + self.bias_output\n",
    "        final_output = sigmoid(final_input)\n",
    "        return (final_output > 0.5).astype(int)\n",
    "\n",
    "# XOR dataset\n",
    "X = np.array([[0, 0], [0, 1], [1, 0], [1, 1]])\n",
    "y = np.array([[0], [1], [1], [0]])\n",
    "\n",
    "# Train MLP\n",
    "mlp = MLP(input_size=2, hidden_size=2, output_size=1, learning_rate=0.1, epochs=10000)\n",
    "mlp.train(X, y)\n",
    "\n",
    "# Test MLP\n",
    "predictions = mlp.predict(X)\n",
    "print(\"Predictions:\", predictions.flatten())\n"
   ]
  },
  {
   "cell_type": "code",
   "execution_count": null,
   "metadata": {},
   "outputs": [],
   "source": []
  }
 ],
 "metadata": {
  "kernelspec": {
   "display_name": "Python 3",
   "language": "python",
   "name": "python3"
  },
  "language_info": {
   "codemirror_mode": {
    "name": "ipython",
    "version": 3
   },
   "file_extension": ".py",
   "mimetype": "text/x-python",
   "name": "python",
   "nbconvert_exporter": "python",
   "pygments_lexer": "ipython3",
   "version": "3.12.4"
  }
 },
 "nbformat": 4,
 "nbformat_minor": 2
}
