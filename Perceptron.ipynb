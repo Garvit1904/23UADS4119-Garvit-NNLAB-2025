{
 "cells": [
  {
   "cell_type": "code",
   "execution_count": 4,
   "metadata": {},
   "outputs": [
    {
     "name": "stdout",
     "output_type": "stream",
     "text": [
      "NAND Perceptron Accuracy: 100.00%\n",
      "XOR Perceptron Accuracy: 50.00%\n"
     ]
    }
   ],
   "source": [
    "import numpy as np\n",
    "\n",
    "class Perceptron:\n",
    "    def __init__(self, input_size, learning_rate=0.1, epochs=100):\n",
    "        self.learning_rate = learning_rate\n",
    "        self.epochs = epochs\n",
    "        self.weights = np.random.randn(input_size + 1)  # +1 for bias\n",
    "    \n",
    "    def activation(self, x):\n",
    "        return 1 if x >= 0 else 0\n",
    "    \n",
    "    def predict(self, x):\n",
    "        x = np.insert(x, 0, 1)  # Insert bias term\n",
    "        return self.activation(np.dot(self.weights, x))\n",
    "    \n",
    "    def train(self, X, y):\n",
    "        for epoch in range(self.epochs):\n",
    "            for i in range(len(X)):\n",
    "                x_i = np.insert(X[i], 0, 1)  # Insert bias term\n",
    "                y_pred = self.activation(np.dot(self.weights, x_i))\n",
    "                error = y[i] - y_pred\n",
    "                self.weights += self.learning_rate * error * x_i  # Update rule\n",
    "    \n",
    "    def evaluate(self, X, y):\n",
    "        correct = sum(self.predict(x) == y_true for x, y_true in zip(X, y))\n",
    "        accuracy = correct / len(y)\n",
    "        return accuracy\n",
    "\n",
    "# NAND and XOR truth tables\n",
    "nand_X = np.array([[0, 0], [0, 1], [1, 0], [1, 1]])\n",
    "nand_y = np.array([1, 1, 1, 0])\n",
    "\n",
    "xor_X = np.array([[0, 0], [0, 1], [1, 0], [1, 1]])\n",
    "xor_y = np.array([0, 1, 1, 0])\n",
    "\n",
    "# Train Perceptron for NAND\\p\n",
    "nand_perceptron = Perceptron(input_size=2)\n",
    "nand_perceptron.train(nand_X, nand_y)\n",
    "nand_accuracy = nand_perceptron.evaluate(nand_X, nand_y)\n",
    "print(f\"NAND Perceptron Accuracy: {nand_accuracy * 100:.2f}%\")\n",
    "\n",
    "# Train Perceptron for XOR (expected to fail)\n",
    "xor_perceptron = Perceptron(input_size=2)\n",
    "xor_perceptron.train(xor_X, xor_y)\n",
    "xor_accuracy = xor_perceptron.evaluate(xor_X, xor_y)\n",
    "print(f\"XOR Perceptron Accuracy: {xor_accuracy * 100:.2f}%\")\n"
   ]
  },
  {
   "cell_type": "code",
   "execution_count": null,
   "metadata": {},
   "outputs": [],
   "source": []
  }
 ],
 "metadata": {
  "kernelspec": {
   "display_name": "Python 3",
   "language": "python",
   "name": "python3"
  },
  "language_info": {
   "codemirror_mode": {
    "name": "ipython",
    "version": 3
   },
   "file_extension": ".py",
   "mimetype": "text/x-python",
   "name": "python",
   "nbconvert_exporter": "python",
   "pygments_lexer": "ipython3",
   "version": "3.12.4"
  }
 },
 "nbformat": 4,
 "nbformat_minor": 2
}
